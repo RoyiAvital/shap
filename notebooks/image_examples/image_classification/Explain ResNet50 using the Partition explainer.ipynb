{
 "cells": [
  {
   "cell_type": "code",
   "execution_count": 1,
   "metadata": {},
   "outputs": [],
   "source": [
    "import json\n",
    "\n",
    "from tensorflow.keras.applications.resnet50 import ResNet50, preprocess_input\n",
    "\n",
    "import shap"
   ]
  },
  {
   "cell_type": "markdown",
   "metadata": {},
   "source": [
    "### Loading Model and Data"
   ]
  },
  {
   "cell_type": "code",
   "execution_count": 3,
   "metadata": {},
   "outputs": [],
   "source": [
    "# getting ImageNet 1000 class names\n",
    "url = \"https://s3.amazonaws.com/deep-learning-models/image-models/imagenet_class_index.json\"\n",
    "with open(shap.datasets.cache(url)) as file:\n",
    "    class_names = [v[1] for v in json.load(file).values()]\n",
    "# print(\"Number of ImageNet classes:\", len(class_names))\n",
    "# print(\"Class names:\", class_names)"
   ]
  },
  {
   "cell_type": "markdown",
   "metadata": {},
   "source": [
    "## A quick run with a few evaluations"
   ]
  },
  {
   "cell_type": "markdown",
   "metadata": {},
   "source": [
    "#### Explainer options:\n",
    "1. Above image masker uses a blurring technique called \"inpaint_telea\". There are alternate masking options available to experiment with such as \"inpaint_ns\" and \"blur(kernel_xsize, kernel_xsize)\". \n",
    "2. Recommended number of evaluations is 300-500 to get explanations with sufficient granularity for the super pixels. More the number of evaluations, more the granularity but also increases run-time. \n",
    "\n",
    "    Note: `outputs=shap.Explanation.argsort.flip[:4]` has been used in the code above for getting SHAP values because we want to get the top 4 most probable classes for each image i.e. top 4 classes with decreasing probability. Hence, a flip argsort sliced by 4 has been used. "
   ]
  },
  {
   "cell_type": "code",
   "execution_count": null,
   "metadata": {},
   "outputs": [],
   "source": [
    "# Test the new force_import functionality\n",
    "import shap\n",
    "\n",
    "print(\"=== Testing force_import functionality ===\")\n",
    "\n",
    "# First check what's available before forcing imports\n",
    "print(f\"Before force import - Has datasets: {hasattr(shap, 'datasets')}\")\n",
    "print(f\"Before force import - Has plots: {hasattr(shap, 'plots')}\")\n",
    "print(f\"Before force import - Has Explainer: {hasattr(shap, 'Explainer')}\")\n",
    "\n",
    "# Force import the utils module first (which contains our force_import function)\n",
    "try:\n",
    "    from shap.utils import ensure_shap_submodules_loaded\n",
    "\n",
    "    print(\"✅ Successfully imported force_import and ensure_shap_submodules_loaded\")\n",
    "\n",
    "    # Now force load all submodules\n",
    "    ensure_shap_submodules_loaded()\n",
    "    print(\"✅ ensure_shap_submodules_loaded completed\")\n",
    "\n",
    "except Exception as e:\n",
    "    print(f\"❌ Error with force import: {e}\")\n",
    "    import traceback\n",
    "\n",
    "    traceback.print_exc()\n",
    "\n",
    "# Check what's available after forcing imports\n",
    "print(f\"\\nAfter force import - Has datasets: {hasattr(shap, 'datasets')}\")\n",
    "print(f\"After force import - Has plots: {hasattr(shap, 'plots')}\")\n",
    "print(f\"After force import - Has Explainer: {hasattr(shap, 'Explainer')}\")\n",
    "\n",
    "# Test the datasets functionality\n",
    "try:\n",
    "    X, y = shap.datasets.imagenet50(n_points=2)\n",
    "    print(f\"✅ Successfully loaded imagenet50: X.shape={X.shape}, y.shape={y.shape}\")\n",
    "except Exception as e:\n",
    "    print(f\"❌ Error loading imagenet50: {e}\")\n",
    "\n",
    "print(\"\\n🎉 Force import test completed!\")"
   ]
  }
 ],
 "metadata": {
  "kernelspec": {
   "display_name": "Python 3",
   "language": "python",
   "name": "python3"
  },
  "language_info": {
   "codemirror_mode": {
    "name": "ipython",
    "version": 3
   },
   "file_extension": ".py",
   "mimetype": "text/x-python",
   "name": "python",
   "nbconvert_exporter": "python",
   "pygments_lexer": "ipython3",
   "version": "3.7.4"
  }
 },
 "nbformat": 4,
 "nbformat_minor": 2
}
